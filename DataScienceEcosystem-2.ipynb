{
 "cells": [
  {
   "cell_type": "markdown",
   "id": "388dc869-0351-4447-8a0e-38387250e47d",
   "metadata": {},
   "source": [
    "# Data Science Tools and Ecosystem\n"
   ]
  },
  {
   "cell_type": "markdown",
   "id": "8e10fdb9-2692-48c4-b665-160bdbb33db1",
   "metadata": {},
   "source": [
    "## In this notebook, Data Science Tools and Ecosytem are Summarized"
   ]
  },
  {
   "cell_type": "markdown",
   "id": "da0559d8-a772-4107-9375-4e995e6e85f1",
   "metadata": {},
   "source": [
    "**objectives:**\n",
    "- List popular languages for Data Science\n",
    "- Data science Tools\n",
    "- Below are a few examples of evaluating arithmetic expressions\n",
    "  \n"
   ]
  },
  {
   "cell_type": "markdown",
   "id": "528bc3e7-5178-4c45-9bf0-c26744cade1a",
   "metadata": {},
   "source": [
    "### Some of the popuplar languages that Data Scientists use are:"
   ]
  },
  {
   "cell_type": "markdown",
   "id": "14f22839-0d43-4d0b-9883-200a7d5557af",
   "metadata": {},
   "source": [
    "1. Python\n",
    "2. R\n",
    "3. C++\n"
   ]
  },
  {
   "cell_type": "code",
   "execution_count": null,
   "id": "8afc61b3-db4a-4666-9809-3d0d61e7a5ec",
   "metadata": {},
   "outputs": [],
   "source": [
    "#Some of the commonly used libraries used by Data Scientists include:\n",
    "1. Pandas\n",
    "2. "
   ]
  },
  {
   "cell_type": "markdown",
   "id": "c0022900-aaf4-410d-b2b4-f868ea573619",
   "metadata": {},
   "source": [
    "|Data Science Tools|\n",
    "|------------------|\n",
    "|Jupyter notebook|\n",
    "|Power BI|\n",
    "|My SQL|"
   ]
  },
  {
   "cell_type": "markdown",
   "id": "63cbf801-876f-4a13-ad2c-f8465d81d5f1",
   "metadata": {},
   "source": [
    "### Below are a few examples of evaluating arithmetic expressions in Python "
   ]
  },
  {
   "cell_type": "code",
   "execution_count": 17,
   "id": "c1d72f06-b6e7-44a3-8348-8d5d1be3123e",
   "metadata": {},
   "outputs": [
    {
     "data": {
      "text/plain": [
       "17"
      ]
     },
     "execution_count": 17,
     "metadata": {},
     "output_type": "execute_result"
    }
   ],
   "source": [
    "#This a simple arithmetic expression to multiply then add integers\n",
    "(3*4)+5"
   ]
  },
  {
   "cell_type": "code",
   "execution_count": 25,
   "id": "e5cc9359-9e78-4a6c-803b-b105c6ed3e41",
   "metadata": {},
   "outputs": [
    {
     "name": "stdout",
     "output_type": "stream",
     "text": [
      "200 minutes is equal to 3 hour(s) and 20 minute(s).\n"
     ]
    }
   ],
   "source": [
    "# This will convert 200 minutes to hours\n",
    "# Total minutes\n",
    "total_minutes = 200\n",
    "\n",
    "# Convert minutes to hours and remaining minutes\n",
    "hours, minutes = divmod(total_minutes, 60)\n",
    "\n",
    "# Print the result\n",
    "print(f\"{total_minutes} minutes is equal to {hours} hour(s) and {minutes} minute(s).\")\n",
    "#copied from Chatgpt"
   ]
  },
  {
   "cell_type": "markdown",
   "id": "8bc94b0b-926a-4c8e-ab6f-5c0cab4cd798",
   "metadata": {},
   "source": [
    "## Author\n",
    "suraj singh kathayat"
   ]
  },
  {
   "cell_type": "code",
   "execution_count": null,
   "id": "75f86d15-e900-4f0a-a0c6-21a3b0b063d8",
   "metadata": {},
   "outputs": [],
   "source": []
  }
 ],
 "metadata": {
  "kernelspec": {
   "display_name": "Python 3 (ipykernel)",
   "language": "python",
   "name": "python3"
  },
  "language_info": {
   "codemirror_mode": {
    "name": "ipython",
    "version": 3
   },
   "file_extension": ".py",
   "mimetype": "text/x-python",
   "name": "python",
   "nbconvert_exporter": "python",
   "pygments_lexer": "ipython3",
   "version": "3.12.7"
  }
 },
 "nbformat": 4,
 "nbformat_minor": 5
}
